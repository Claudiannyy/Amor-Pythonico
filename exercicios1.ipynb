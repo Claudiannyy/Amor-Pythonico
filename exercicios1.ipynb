{
  "nbformat": 4,
  "nbformat_minor": 0,
  "metadata": {
    "colab": {
      "provenance": [],
      "authorship_tag": "ABX9TyP9FmAxlZoGLt3wEceid5/M",
      "include_colab_link": true
    },
    "kernelspec": {
      "name": "python3",
      "display_name": "Python 3"
    },
    "language_info": {
      "name": "python"
    }
  },
  "cells": [
    {
      "cell_type": "markdown",
      "metadata": {
        "id": "view-in-github",
        "colab_type": "text"
      },
      "source": [
        "<a href=\"https://colab.research.google.com/github/Claudiannyy/Amor-Pythonico/blob/main/exercicios1.ipynb\" target=\"_parent\"><img src=\"https://colab.research.google.com/assets/colab-badge.svg\" alt=\"Open In Colab\"/></a>"
      ]
    },
    {
      "cell_type": "markdown",
      "source": [
        "#Exercícios práticos do curso de Extensão: **Amor Pythônico**🐍\n",
        "\n",
        "**Coordenador**: Profº Marcílio Ferreira\n",
        "\n",
        "**Coordenadora adjunta:** Profª Naralina Viana\n",
        "\n",
        "**Tutora:** Claudianny Trajano\n",
        "\n",
        "**Tutor:** Lucas Henrique\n",
        "\n"
      ],
      "metadata": {
        "id": "VG8Ez6Qv-ewI"
      }
    },
    {
      "cell_type": "markdown",
      "source": [
        "# Exiba a mensagem: Hello, World!\n"
      ],
      "metadata": {
        "id": "-rq4OGMq8BFG"
      }
    },
    {
      "cell_type": "code",
      "source": [
        "# Execute seu código aqui"
      ],
      "metadata": {
        "id": "EAC9P_g08UPW"
      },
      "execution_count": null,
      "outputs": []
    },
    {
      "cell_type": "markdown",
      "source": [
        "#Exercício : Variáveis e tipos de dados\n",
        "Crie uma variável chamada nome e atribua seu nome a ela.\n",
        "\n",
        "Crie uma variável chamada idade e atribua sua idade a ela.\n",
        "\n",
        "Crie uma variável chamada altura e atribua sua altura (em metros) a ela.\n",
        "\n",
        "Exiba o tipo de cada uma dessas variáveis (use a função type() para verificar)."
      ],
      "metadata": {
        "id": "WGgKAMiA85Fe"
      }
    },
    {
      "cell_type": "code",
      "source": [
        "# Execute seu código aqui"
      ],
      "metadata": {
        "id": "ARNMI-IY60tN"
      },
      "execution_count": null,
      "outputs": []
    },
    {
      "cell_type": "markdown",
      "source": [
        "# Exercício : Verificação de Tipo de Dado\n",
        "\n",
        "Crie um programa que solicite ao usuário que insira um valor.\n",
        "\n",
        "O programa deve verificar o tipo desse valor (se é um número inteiro, ponto flutuante ou uma string) e exibir a informação ao usuário.\n",
        "\n",
        "**Passos:**\n",
        "\n",
        "- Solicitar ao usuário um valor.\n",
        "- Verificar se o valor é um número inteiro, um ponto flutuante ou uma string.\n",
        "- Exibir o tipo do dado inserido."
      ],
      "metadata": {
        "id": "dcoIP28a9jdu"
      }
    },
    {
      "cell_type": "code",
      "source": [
        "# Execute seu código aqui"
      ],
      "metadata": {
        "id": "vymoXjMw9nX2"
      },
      "execution_count": null,
      "outputs": []
    },
    {
      "cell_type": "markdown",
      "source": [
        "# Exercício : Concatenando Strings\n",
        "Crie um programa que peça ao usuário para digitar seu nome e sobrenome.\n",
        "\n",
        "Em seguida, combine essas duas strings em uma variável chamada nome_completo e imprima o resultado.\n",
        "\n",
        "\n",
        "\n",
        "Exemplo de execução:\n",
        "\n",
        "Entrada:\n",
        "```\n",
        "Nome: João\n",
        "Sobrenome: Souza\n",
        "```\n",
        "Saída:\n",
        "```\n",
        "Nome completo: João Souza\n",
        "```\n",
        "\n",
        "\n",
        "\n",
        "\n",
        "\n"
      ],
      "metadata": {
        "id": "y8O2ngsg-qM-"
      }
    },
    {
      "cell_type": "code",
      "source": [
        "# Execute o seu código aqui"
      ],
      "metadata": {
        "id": "SbaAwNBz-xlP"
      },
      "execution_count": null,
      "outputs": []
    },
    {
      "cell_type": "markdown",
      "source": [
        "# Exercício: listas\n",
        "Crie uma lista chamada frutas contendo os nomes de pelo menos 5 frutas.\n",
        "\n",
        "Após,\n",
        "- Exiba o terceiro item da lista;\n",
        "- Adicione uma nova fruta à lista e exiba a lista atualizada\n",
        "- Remova a primeira fruta da lista e exiba a lista novamente."
      ],
      "metadata": {
        "id": "xC-lw8_b8hAO"
      }
    },
    {
      "cell_type": "code",
      "source": [
        "# Execute seu código aqui"
      ],
      "metadata": {
        "id": "IUspXD3U8-7G"
      },
      "execution_count": null,
      "outputs": []
    },
    {
      "cell_type": "markdown",
      "source": [
        "# Exercício : Manipulando Listas\n",
        "\n",
        "\n",
        "Crie uma lista com 5 números inteiros de sua escolha.\n",
        "\n",
        "\n",
        "**Em seguida**,\n",
        "\n",
        "- Exiba o maior número da lista.\n",
        "\n",
        "- Exiba o menor número da lista.\n",
        "\n",
        "- Calcule e exiba a média dos números."
      ],
      "metadata": {
        "id": "qT7L9sIq9uc2"
      }
    },
    {
      "cell_type": "code",
      "source": [
        "# Execute seu código aqui"
      ],
      "metadata": {
        "id": "bynCt7EK9yOW"
      },
      "execution_count": null,
      "outputs": []
    },
    {
      "cell_type": "markdown",
      "source": [
        "#Exercício : Tuplas e Imutabilidade\n",
        "\n",
        "Crie uma tupla com 3 elementos: nome, idade e profissão de uma pessoa.\n",
        "\n",
        "Em seguida, tente alterar a idade na tupla (isso deve gerar um erro, pois tuplas são imutáveis).\n",
        "\n",
        "Exiba a tupla antes e depois da tentativa de alteração."
      ],
      "metadata": {
        "id": "ecaJdvfb95ZW"
      }
    },
    {
      "cell_type": "code",
      "source": [
        "# Execute o seu código aqui"
      ],
      "metadata": {
        "id": "L9kzu2la99Ff"
      },
      "execution_count": null,
      "outputs": []
    },
    {
      "cell_type": "markdown",
      "source": [
        "# Exercício : Manipulando Dicionários\n",
        "\n",
        "Crie um dicionário com informações de um livro, contendo as chaves: titulo, autor, ano e preço.\n",
        "\n",
        "\n",
        "\n",
        "- Exiba o título e o autor do livro.\n",
        "\n",
        "- Modifique o preço do livro.\n",
        "\n",
        "- Adicione uma chave genero ao dicionário e defina o gênero do livro.\n",
        "\n",
        "- Exclua a chave ano do dicionário e exiba o dicionário final.\n"
      ],
      "metadata": {
        "id": "EQTYk1K--A1u"
      }
    },
    {
      "cell_type": "code",
      "source": [
        "# Execute o seu código aqui"
      ],
      "metadata": {
        "id": "FXtpm9PS-Fce"
      },
      "execution_count": null,
      "outputs": []
    },
    {
      "cell_type": "markdown",
      "source": [
        "#Exercício: Estrutura Condicional - Classificação de Idade\n",
        "\n",
        "Crie um programa que solicita ao usuário a idade de uma pessoa e, com base na idade,\n",
        "\n",
        "\n",
        "**Classifique-a em uma das seguintes faixas etárias**:\n",
        "\n",
        "Menor de 18 anos: \"Você é menor de idade.\"\n",
        "\n",
        "18 a 59 anos: \"Você é adulto.\"\n",
        "\n",
        "60 anos ou mais: \"Você é idoso.\""
      ],
      "metadata": {
        "id": "99yCFnvd-LLW"
      }
    },
    {
      "cell_type": "code",
      "source": [
        "# Execute o seu código aqui"
      ],
      "metadata": {
        "id": "pAzMvYe9-OSO"
      },
      "execution_count": null,
      "outputs": []
    },
    {
      "cell_type": "markdown",
      "source": [
        "\n",
        "# Exercício : Média de Notas e Aprovação\n",
        "Crie um programa que solicita ao usuário que insira três notas (valores de 0 a 10) e, em seguida, calcule e exiba a média dessas notas.\n",
        "\n",
        "Além disso, informe ao usuário se ele foi aprovado ou reprovado com base na média das notas, considerando a média mínima de aprovação como 6.\n",
        "\n",
        "**Passos:**\n",
        "\n",
        "- Solicitar ao usuário que insira três notas.\n",
        "- Calcular a média dessas notas.\n",
        "- Exibir a média.\n",
        "- Informar se o aluno foi aprovado (média >= 6) ou reprovado (média < 6)."
      ],
      "metadata": {
        "id": "_B5YIoVz6tpg"
      }
    },
    {
      "cell_type": "code",
      "source": [
        "# Execute seu código aqui"
      ],
      "metadata": {
        "id": "hZmoWxUy8y3y"
      },
      "execution_count": null,
      "outputs": []
    },
    {
      "cell_type": "markdown",
      "source": [
        "# Exercício: Comparando Números com If-Else\n",
        "Enunciado:\n",
        "Crie um programa que solicite ao usuário dois números inteiros e compare-os.\n",
        "\n",
        "**Exiba:**\n",
        "\n",
        "\"O primeiro número é maior\" se o primeiro número for maior que o segundo.\n",
        "\n",
        "\"O segundo número é maior\" se o segundo número for maior que o primeiro.\n",
        "\n",
        "\"Os números são iguais\" se ambos os números forem iguais.\n"
      ],
      "metadata": {
        "id": "dZx7Q0Ed-Us2"
      }
    },
    {
      "cell_type": "code",
      "source": [
        "# Execute o seu código aqui"
      ],
      "metadata": {
        "id": "7v5umcsh-YAm"
      },
      "execution_count": null,
      "outputs": []
    },
    {
      "cell_type": "markdown",
      "source": [
        "\n",
        "\n",
        "> Feito pela tutora **Claudianny Trajano**\n",
        "\n",
        "\n",
        "> Apresentado pelo tutor **Lucas Henrique**\n"
      ],
      "metadata": {
        "id": "Zz2Z-tB8AMCP"
      }
    }
  ]
}